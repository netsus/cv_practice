{
 "cells": [
  {
   "cell_type": "code",
   "execution_count": null,
   "id": "14317e52",
   "metadata": {
    "ExecuteTime": {
     "end_time": "2022-05-31T07:21:30.340370Z",
     "start_time": "2022-05-31T07:21:30.238225Z"
    }
   },
   "outputs": [],
   "source": [
    "import cv2\n",
    "img = cv2.imread(\"Lenna.png\",cv2.IMREAD_COLOR)"
   ]
  },
  {
   "cell_type": "markdown",
   "id": "364b3c7e",
   "metadata": {},
   "source": [
    "## 키입력 예제"
   ]
  },
  {
   "cell_type": "code",
   "execution_count": null,
   "id": "d47820d5",
   "metadata": {
    "ExecuteTime": {
     "start_time": "2022-05-31T07:19:49.986Z"
    }
   },
   "outputs": [],
   "source": [
    "cv2.namedWindow(\"My Image\",cv2.WINDOW_NORMAL)\n",
    "\n",
    "while 1:\n",
    "    cv2.imshow(\"My Image\",img)    \n",
    "    key = cv2.waitKey(0) # Key입력받을때 까지 무한정 기다리기\n",
    "    if key == ord(\"q\"): # q입력받으면 -> 창 종료\n",
    "        cv2.destroyAllWindows() # 모든창 종료\n",
    "        cv2.destroyWindow(\"My Image\") # My Image창 종료\n",
    "        exit() # 주피터 커널 종료.(안쓰면 에러남)\n",
    "        break\n",
    "    elif key == ord('g'): # g입력받으면 -> 그레이로 Convert\n",
    "        img = cv2.cvtColor(img, cv2.COLOR_BGR2GRAY)"
   ]
  },
  {
   "cell_type": "markdown",
   "id": "02d7477d",
   "metadata": {},
   "source": [
    "## 마우스 입력 예제"
   ]
  },
  {
   "cell_type": "code",
   "execution_count": 1,
   "id": "7672c246",
   "metadata": {
    "ExecuteTime": {
     "end_time": "2022-05-31T08:13:15.507381Z",
     "start_time": "2022-05-31T08:13:15.285094Z"
    }
   },
   "outputs": [],
   "source": [
    "import cv2\n",
    "img = cv2.imread(\"Lenna.png\",cv2.IMREAD_COLOR)\n",
    "\n",
    "def onMouse(event, x, y, flags, param):\n",
    "    if event == cv2.EVENT_LBUTTONDOWN:\n",
    "        param[0] = cv2.circle(param[0], (x,y), 30, (255, 180, 0), 5)\n",
    "        cv2.imshow(\"My Image\",param[0])\n",
    "        \n",
    "cv2.namedWindow(\"My Image\",cv2.WINDOW_NORMAL)\n",
    "param = [img] # param을 [img]로 설정\n",
    "cv2.setMouseCallback(\"My Image\", onMouse, param)"
   ]
  },
  {
   "cell_type": "code",
   "execution_count": null,
   "id": "6787665b",
   "metadata": {
    "ExecuteTime": {
     "end_time": "2022-05-31T08:09:58.173266Z",
     "start_time": "2022-05-31T08:09:53.028995Z"
    }
   },
   "outputs": [],
   "source": [
    "while 1:\n",
    "    cv2.imshow(\"My Image\",img)\n",
    "    key = cv2.waitKey(0) # Key입력받을때 까지 무한정 기다리기\n",
    "    if key == ord(\"q\"): # q입력받으면 -> 창 종료\n",
    "        cv2.destroyAllWindows() # 모든창 종료\n",
    "        cv2.destroyWindow(\"My Image\") # My Image창 종료\n",
    "        exit() # 주피터 커널 종료.(안쓰면 에러남)\n",
    "        break\n",
    "    elif key == ord('g'): # g입력받으면 -> 그레이로 Convert\n",
    "        img = cv2.cvtColor(img, cv2.COLOR_BGR2GRAY)"
   ]
  },
  {
   "cell_type": "markdown",
   "id": "b7b193cb",
   "metadata": {},
   "source": [
    "### ROI 사용해보기"
   ]
  },
  {
   "cell_type": "code",
   "execution_count": 2,
   "id": "b0dbf4b0",
   "metadata": {
    "ExecuteTime": {
     "end_time": "2022-05-31T08:17:37.677001Z",
     "start_time": "2022-05-31T08:17:37.577576Z"
    }
   },
   "outputs": [],
   "source": [
    "import cv2\n",
    "img = cv2.imread(\"Lenna.png\",cv2.IMREAD_COLOR)"
   ]
  },
  {
   "cell_type": "code",
   "execution_count": 3,
   "id": "975550c1",
   "metadata": {
    "ExecuteTime": {
     "end_time": "2022-05-31T08:17:49.269714Z",
     "start_time": "2022-05-31T08:17:38.078233Z"
    }
   },
   "outputs": [
    {
     "name": "stdout",
     "output_type": "stream",
     "text": [
      "(232, 246, 126, 136)\n"
     ]
    }
   ],
   "source": [
    "roi = cv2.selectROI(\"MY Image\",img)\n",
    "cv2.destroyAllWindows() # 모든창 종료\n",
    "cv2.destroyWindow(\"My Image\") # My Image창 종료\n",
    "print(roi)\n",
    "exit()"
   ]
  }
 ],
 "metadata": {
  "kernelspec": {
   "display_name": "Python 3",
   "language": "python",
   "name": "python3"
  },
  "language_info": {
   "codemirror_mode": {
    "name": "ipython",
    "version": 3
   },
   "file_extension": ".py",
   "mimetype": "text/x-python",
   "name": "python",
   "nbconvert_exporter": "python",
   "pygments_lexer": "ipython3",
   "version": "3.8.12"
  },
  "toc": {
   "base_numbering": 1,
   "nav_menu": {},
   "number_sections": true,
   "sideBar": true,
   "skip_h1_title": false,
   "title_cell": "Table of Contents",
   "title_sidebar": "Contents",
   "toc_cell": false,
   "toc_position": {},
   "toc_section_display": true,
   "toc_window_display": false
  }
 },
 "nbformat": 4,
 "nbformat_minor": 5
}
